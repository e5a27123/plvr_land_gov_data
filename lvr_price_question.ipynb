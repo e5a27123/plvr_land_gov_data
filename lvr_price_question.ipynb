{
 "cells": [
  {
   "cell_type": "code",
   "execution_count": 1,
   "metadata": {},
   "outputs": [],
   "source": [
    "import pandas as pd\n",
    "\n",
    "\n",
    "df_a = pd.read_csv('./raw_data/a_lvr_land_a.csv', encoding='utf-8')\n",
    "df_b = pd.read_csv('./raw_data/b_lvr_land_a.csv', encoding='utf-8')\n",
    "df_e = pd.read_csv('./raw_data/e_lvr_land_a.csv', encoding='utf-8')\n",
    "df_f = pd.read_csv('./raw_data/f_lvr_land_a.csv', encoding='utf-8')\n",
    "df_h = pd.read_csv('./raw_data/h_lvr_land_a.csv', encoding='utf-8')\n",
    "\n",
    "df_a = df_a.drop(labels = 0)\n",
    "df_b = df_b.drop(labels = 0)\n",
    "df_e = df_e.drop(labels = 0)\n",
    "df_f = df_f.drop(labels = 0)\n",
    "df_h = df_h.drop(labels = 0)"
   ]
  },
  {
   "cell_type": "code",
   "execution_count": 2,
   "metadata": {},
   "outputs": [
    {
     "data": {
      "text/html": [
       "<div>\n",
       "<style scoped>\n",
       "    .dataframe tbody tr th:only-of-type {\n",
       "        vertical-align: middle;\n",
       "    }\n",
       "\n",
       "    .dataframe tbody tr th {\n",
       "        vertical-align: top;\n",
       "    }\n",
       "\n",
       "    .dataframe thead th {\n",
       "        text-align: right;\n",
       "    }\n",
       "</style>\n",
       "<table border=\"1\" class=\"dataframe\">\n",
       "  <thead>\n",
       "    <tr style=\"text-align: right;\">\n",
       "      <th></th>\n",
       "      <th>主要用途</th>\n",
       "      <th>建物型態</th>\n",
       "      <th>總樓層數</th>\n",
       "    </tr>\n",
       "  </thead>\n",
       "  <tbody>\n",
       "    <tr>\n",
       "      <th>1</th>\n",
       "      <td>住家用</td>\n",
       "      <td>華廈(10層含以下有電梯)</td>\n",
       "      <td>五層</td>\n",
       "    </tr>\n",
       "    <tr>\n",
       "      <th>2</th>\n",
       "      <td>住家用</td>\n",
       "      <td>公寓(5樓含以下無電梯)</td>\n",
       "      <td>五層</td>\n",
       "    </tr>\n",
       "    <tr>\n",
       "      <th>3</th>\n",
       "      <td>住家用</td>\n",
       "      <td>住宅大樓(11層含以上有電梯)</td>\n",
       "      <td>三十三層</td>\n",
       "    </tr>\n",
       "    <tr>\n",
       "      <th>4</th>\n",
       "      <td>住家用</td>\n",
       "      <td>公寓(5樓含以下無電梯)</td>\n",
       "      <td>五層</td>\n",
       "    </tr>\n",
       "    <tr>\n",
       "      <th>5</th>\n",
       "      <td>辦公用</td>\n",
       "      <td>住宅大樓(11層含以上有電梯)</td>\n",
       "      <td>十五層</td>\n",
       "    </tr>\n",
       "    <tr>\n",
       "      <th>...</th>\n",
       "      <td>...</td>\n",
       "      <td>...</td>\n",
       "      <td>...</td>\n",
       "    </tr>\n",
       "    <tr>\n",
       "      <th>407</th>\n",
       "      <td>住家用</td>\n",
       "      <td>華廈(10層含以下有電梯)</td>\n",
       "      <td>八層</td>\n",
       "    </tr>\n",
       "    <tr>\n",
       "      <th>408</th>\n",
       "      <td>住家用</td>\n",
       "      <td>住宅大樓(11層含以上有電梯)</td>\n",
       "      <td>十五層</td>\n",
       "    </tr>\n",
       "    <tr>\n",
       "      <th>409</th>\n",
       "      <td>住家用</td>\n",
       "      <td>住宅大樓(11層含以上有電梯)</td>\n",
       "      <td>十七層</td>\n",
       "    </tr>\n",
       "    <tr>\n",
       "      <th>410</th>\n",
       "      <td>住家用</td>\n",
       "      <td>華廈(10層含以下有電梯)</td>\n",
       "      <td>六層</td>\n",
       "    </tr>\n",
       "    <tr>\n",
       "      <th>411</th>\n",
       "      <td>住家用</td>\n",
       "      <td>華廈(10層含以下有電梯)</td>\n",
       "      <td>六層</td>\n",
       "    </tr>\n",
       "  </tbody>\n",
       "</table>\n",
       "<p>411 rows × 3 columns</p>\n",
       "</div>"
      ],
      "text/plain": [
       "    主要用途             建物型態  總樓層數\n",
       "1    住家用    華廈(10層含以下有電梯)    五層\n",
       "2    住家用     公寓(5樓含以下無電梯)    五層\n",
       "3    住家用  住宅大樓(11層含以上有電梯)  三十三層\n",
       "4    住家用     公寓(5樓含以下無電梯)    五層\n",
       "5    辦公用  住宅大樓(11層含以上有電梯)   十五層\n",
       "..   ...              ...   ...\n",
       "407  住家用    華廈(10層含以下有電梯)    八層\n",
       "408  住家用  住宅大樓(11層含以上有電梯)   十五層\n",
       "409  住家用  住宅大樓(11層含以上有電梯)   十七層\n",
       "410  住家用    華廈(10層含以下有電梯)    六層\n",
       "411  住家用    華廈(10層含以下有電梯)    六層\n",
       "\n",
       "[411 rows x 3 columns]"
      ]
     },
     "execution_count": 2,
     "metadata": {},
     "output_type": "execute_result"
    }
   ],
   "source": [
    "df_a[['主要用途', '建物型態', '總樓層數']]"
   ]
  },
  {
   "cell_type": "code",
   "execution_count": 3,
   "metadata": {},
   "outputs": [],
   "source": [
    "df_all = pd.concat([df_a, df_b, df_e, df_f, df_h], axis=0, ignore_index=True)"
   ]
  },
  {
   "cell_type": "code",
   "execution_count": 4,
   "metadata": {},
   "outputs": [],
   "source": [
    "filter_main_use = df_all['主要用途'] == '住家用'\n",
    "filter_building_state = df_all['建物型態'].str.contains('住宅大樓')\n",
    "# 住宅大樓皆為 11 層以上\n",
    "filter_total_floor_number_11 = df_all['總樓層數'] != '十一層' \n",
    "filter_total_floor_number_12 = df_all['總樓層數'] != '十二層'"
   ]
  },
  {
   "cell_type": "code",
   "execution_count": 5,
   "metadata": {
    "scrolled": true
   },
   "outputs": [
    {
     "data": {
      "text/html": [
       "<div>\n",
       "<style scoped>\n",
       "    .dataframe tbody tr th:only-of-type {\n",
       "        vertical-align: middle;\n",
       "    }\n",
       "\n",
       "    .dataframe tbody tr th {\n",
       "        vertical-align: top;\n",
       "    }\n",
       "\n",
       "    .dataframe thead th {\n",
       "        text-align: right;\n",
       "    }\n",
       "</style>\n",
       "<table border=\"1\" class=\"dataframe\">\n",
       "  <thead>\n",
       "    <tr style=\"text-align: right;\">\n",
       "      <th></th>\n",
       "      <th>主要用途</th>\n",
       "      <th>建物型態</th>\n",
       "      <th>總樓層數</th>\n",
       "    </tr>\n",
       "  </thead>\n",
       "  <tbody>\n",
       "    <tr>\n",
       "      <th>2</th>\n",
       "      <td>住家用</td>\n",
       "      <td>住宅大樓(11層含以上有電梯)</td>\n",
       "      <td>三十三層</td>\n",
       "    </tr>\n",
       "    <tr>\n",
       "      <th>6</th>\n",
       "      <td>住家用</td>\n",
       "      <td>住宅大樓(11層含以上有電梯)</td>\n",
       "      <td>十三層</td>\n",
       "    </tr>\n",
       "    <tr>\n",
       "      <th>11</th>\n",
       "      <td>住家用</td>\n",
       "      <td>住宅大樓(11層含以上有電梯)</td>\n",
       "      <td>十五層</td>\n",
       "    </tr>\n",
       "    <tr>\n",
       "      <th>14</th>\n",
       "      <td>住家用</td>\n",
       "      <td>住宅大樓(11層含以上有電梯)</td>\n",
       "      <td>十五層</td>\n",
       "    </tr>\n",
       "    <tr>\n",
       "      <th>16</th>\n",
       "      <td>住家用</td>\n",
       "      <td>住宅大樓(11層含以上有電梯)</td>\n",
       "      <td>十五層</td>\n",
       "    </tr>\n",
       "    <tr>\n",
       "      <th>19</th>\n",
       "      <td>住家用</td>\n",
       "      <td>住宅大樓(11層含以上有電梯)</td>\n",
       "      <td>十三層</td>\n",
       "    </tr>\n",
       "    <tr>\n",
       "      <th>23</th>\n",
       "      <td>住家用</td>\n",
       "      <td>住宅大樓(11層含以上有電梯)</td>\n",
       "      <td>二十四層</td>\n",
       "    </tr>\n",
       "    <tr>\n",
       "      <th>28</th>\n",
       "      <td>住家用</td>\n",
       "      <td>住宅大樓(11層含以上有電梯)</td>\n",
       "      <td>十五層</td>\n",
       "    </tr>\n",
       "    <tr>\n",
       "      <th>45</th>\n",
       "      <td>住家用</td>\n",
       "      <td>住宅大樓(11層含以上有電梯)</td>\n",
       "      <td>二十層</td>\n",
       "    </tr>\n",
       "    <tr>\n",
       "      <th>64</th>\n",
       "      <td>住家用</td>\n",
       "      <td>住宅大樓(11層含以上有電梯)</td>\n",
       "      <td>十三層</td>\n",
       "    </tr>\n",
       "  </tbody>\n",
       "</table>\n",
       "</div>"
      ],
      "text/plain": [
       "   主要用途             建物型態  總樓層數\n",
       "2   住家用  住宅大樓(11層含以上有電梯)  三十三層\n",
       "6   住家用  住宅大樓(11層含以上有電梯)   十三層\n",
       "11  住家用  住宅大樓(11層含以上有電梯)   十五層\n",
       "14  住家用  住宅大樓(11層含以上有電梯)   十五層\n",
       "16  住家用  住宅大樓(11層含以上有電梯)   十五層\n",
       "19  住家用  住宅大樓(11層含以上有電梯)   十三層\n",
       "23  住家用  住宅大樓(11層含以上有電梯)  二十四層\n",
       "28  住家用  住宅大樓(11層含以上有電梯)   十五層\n",
       "45  住家用  住宅大樓(11層含以上有電梯)   二十層\n",
       "64  住家用  住宅大樓(11層含以上有電梯)   十三層"
      ]
     },
     "execution_count": 5,
     "metadata": {},
     "output_type": "execute_result"
    }
   ],
   "source": [
    "df_filter_a = df_all[(filter_main_use & filter_building_state & filter_total_floor_number_11 & filter_total_floor_number_12)]\n",
    "df_filter_a[['主要用途', '建物型態', '總樓層數']][:10]"
   ]
  },
  {
   "cell_type": "code",
   "execution_count": 6,
   "metadata": {},
   "outputs": [],
   "source": [
    "df_filter_a.to_csv('./filter_a.csv', index=False, encoding='utf-8')"
   ]
  },
  {
   "cell_type": "code",
   "execution_count": 7,
   "metadata": {},
   "outputs": [
    {
     "data": {
      "text/html": [
       "<div>\n",
       "<style scoped>\n",
       "    .dataframe tbody tr th:only-of-type {\n",
       "        vertical-align: middle;\n",
       "    }\n",
       "\n",
       "    .dataframe tbody tr th {\n",
       "        vertical-align: top;\n",
       "    }\n",
       "\n",
       "    .dataframe thead th {\n",
       "        text-align: right;\n",
       "    }\n",
       "</style>\n",
       "<table border=\"1\" class=\"dataframe\">\n",
       "  <thead>\n",
       "    <tr style=\"text-align: right;\">\n",
       "      <th></th>\n",
       "      <th>交易筆棟數</th>\n",
       "      <th>總價元</th>\n",
       "      <th>車位總價元</th>\n",
       "    </tr>\n",
       "  </thead>\n",
       "  <tbody>\n",
       "    <tr>\n",
       "      <th>0</th>\n",
       "      <td>土地1建物1車位0</td>\n",
       "      <td>8400000</td>\n",
       "      <td>0</td>\n",
       "    </tr>\n",
       "    <tr>\n",
       "      <th>1</th>\n",
       "      <td>土地1建物1車位0</td>\n",
       "      <td>19280000</td>\n",
       "      <td>0</td>\n",
       "    </tr>\n",
       "    <tr>\n",
       "      <th>2</th>\n",
       "      <td>土地1建物1車位2</td>\n",
       "      <td>53000000</td>\n",
       "      <td>5600000</td>\n",
       "    </tr>\n",
       "    <tr>\n",
       "      <th>3</th>\n",
       "      <td>土地1建物1車位0</td>\n",
       "      <td>19480000</td>\n",
       "      <td>0</td>\n",
       "    </tr>\n",
       "    <tr>\n",
       "      <th>4</th>\n",
       "      <td>土地2建物1車位0</td>\n",
       "      <td>12950000</td>\n",
       "      <td>0</td>\n",
       "    </tr>\n",
       "    <tr>\n",
       "      <th>5</th>\n",
       "      <td>土地3建物1車位1</td>\n",
       "      <td>14200000</td>\n",
       "      <td>1500000</td>\n",
       "    </tr>\n",
       "    <tr>\n",
       "      <th>6</th>\n",
       "      <td>土地2建物1車位0</td>\n",
       "      <td>10000000</td>\n",
       "      <td>0</td>\n",
       "    </tr>\n",
       "    <tr>\n",
       "      <th>7</th>\n",
       "      <td>土地1建物1車位1</td>\n",
       "      <td>36800000</td>\n",
       "      <td>0</td>\n",
       "    </tr>\n",
       "    <tr>\n",
       "      <th>8</th>\n",
       "      <td>土地1建物1車位1</td>\n",
       "      <td>43000000</td>\n",
       "      <td>0</td>\n",
       "    </tr>\n",
       "    <tr>\n",
       "      <th>9</th>\n",
       "      <td>土地2建物1車位0</td>\n",
       "      <td>4860000</td>\n",
       "      <td>0</td>\n",
       "    </tr>\n",
       "  </tbody>\n",
       "</table>\n",
       "</div>"
      ],
      "text/plain": [
       "       交易筆棟數       總價元    車位總價元\n",
       "0  土地1建物1車位0   8400000        0\n",
       "1  土地1建物1車位0  19280000        0\n",
       "2  土地1建物1車位2  53000000  5600000\n",
       "3  土地1建物1車位0  19480000        0\n",
       "4  土地2建物1車位0  12950000        0\n",
       "5  土地3建物1車位1  14200000  1500000\n",
       "6  土地2建物1車位0  10000000        0\n",
       "7  土地1建物1車位1  36800000        0\n",
       "8  土地1建物1車位1  43000000        0\n",
       "9  土地2建物1車位0   4860000        0"
      ]
     },
     "execution_count": 7,
     "metadata": {},
     "output_type": "execute_result"
    }
   ],
   "source": [
    "df_all[['交易筆棟數','總價元','車位總價元']][:10]"
   ]
  },
  {
   "cell_type": "code",
   "execution_count": 8,
   "metadata": {},
   "outputs": [
    {
     "data": {
      "text/plain": [
       "3226"
      ]
     },
     "execution_count": 8,
     "metadata": {},
     "output_type": "execute_result"
    }
   ],
   "source": [
    "# 總件數\n",
    "total_count = len(df_all)\n",
    "\n",
    "# 總車位數\n",
    "# SUM(df_all['交易筆棟數'].str.split('車位')[1][1])\n",
    "df_all['車位數'] = pd.to_numeric(df_all['交易筆棟數'].str.split('車位').str.get(1))\n",
    "total_parking_place_count = df_all['車位數'].sum()\n",
    "total_parking_place_count"
   ]
  },
  {
   "cell_type": "code",
   "execution_count": 9,
   "metadata": {},
   "outputs": [],
   "source": [
    "# 平均總價元\n",
    "avg_total_price_ntd = round(pd.to_numeric(df_all['總價元']).sum()/total_count, 2)"
   ]
  },
  {
   "cell_type": "code",
   "execution_count": 10,
   "metadata": {},
   "outputs": [],
   "source": [
    "# 平均車位總價元\n",
    "avg_berth_total_price_ntd = round(pd.to_numeric(df_all['車位總價元']).sum()/total_count, 2)"
   ]
  },
  {
   "cell_type": "code",
   "execution_count": 11,
   "metadata": {},
   "outputs": [],
   "source": [
    "data_b = {'總件數' : [total_count],\n",
    "          '總車位數' : [total_parking_place_count],\n",
    "          '平均總價元' : [avg_total_price_ntd],\n",
    "          '平均車位總價元' : [avg_berth_total_price_ntd]}\n",
    "df_filter_b = pd.DataFrame(data=data_b)"
   ]
  },
  {
   "cell_type": "code",
   "execution_count": 12,
   "metadata": {},
   "outputs": [
    {
     "data": {
      "text/html": [
       "<div>\n",
       "<style scoped>\n",
       "    .dataframe tbody tr th:only-of-type {\n",
       "        vertical-align: middle;\n",
       "    }\n",
       "\n",
       "    .dataframe tbody tr th {\n",
       "        vertical-align: top;\n",
       "    }\n",
       "\n",
       "    .dataframe thead th {\n",
       "        text-align: right;\n",
       "    }\n",
       "</style>\n",
       "<table border=\"1\" class=\"dataframe\">\n",
       "  <thead>\n",
       "    <tr style=\"text-align: right;\">\n",
       "      <th></th>\n",
       "      <th>總件數</th>\n",
       "      <th>總車位數</th>\n",
       "      <th>平均總價元</th>\n",
       "      <th>平均車位總價元</th>\n",
       "    </tr>\n",
       "  </thead>\n",
       "  <tbody>\n",
       "    <tr>\n",
       "      <th>0</th>\n",
       "      <td>6084</td>\n",
       "      <td>3226</td>\n",
       "      <td>15557656.4</td>\n",
       "      <td>504912.06</td>\n",
       "    </tr>\n",
       "  </tbody>\n",
       "</table>\n",
       "</div>"
      ],
      "text/plain": [
       "    總件數  總車位數       平均總價元    平均車位總價元\n",
       "0  6084  3226  15557656.4  504912.06"
      ]
     },
     "execution_count": 12,
     "metadata": {},
     "output_type": "execute_result"
    }
   ],
   "source": [
    "df_filter_b"
   ]
  },
  {
   "cell_type": "code",
   "execution_count": 13,
   "metadata": {},
   "outputs": [],
   "source": [
    "df_filter_b.to_csv('./filter_b.csv', index=False, encoding='utf-8')"
   ]
  }
 ],
 "metadata": {
  "kernelspec": {
   "display_name": "Python 3",
   "language": "python",
   "name": "python3"
  },
  "language_info": {
   "codemirror_mode": {
    "name": "ipython",
    "version": 3
   },
   "file_extension": ".py",
   "mimetype": "text/x-python",
   "name": "python",
   "nbconvert_exporter": "python",
   "pygments_lexer": "ipython3",
   "version": "3.6.7"
  }
 },
 "nbformat": 4,
 "nbformat_minor": 2
}
